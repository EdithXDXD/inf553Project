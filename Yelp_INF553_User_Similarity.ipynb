{
 "cells": [
  {
   "cell_type": "code",
   "execution_count": 251,
   "metadata": {},
   "outputs": [],
   "source": [
    "import pandas as pd\n",
    "import json\n",
    "import csv\n",
    "import numpy as np\n",
    "from collections import Counter\n",
    "from collections import defaultdict"
   ]
  },
  {
   "cell_type": "markdown",
   "metadata": {},
   "source": [
    "## Functions \n",
    "### Load Data"
   ]
  },
  {
   "cell_type": "code",
   "execution_count": 2,
   "metadata": {},
   "outputs": [],
   "source": [
    "def parse_json_file(filename):\n",
    "    data = []\n",
    "    with open(filename) as file:\n",
    "        for line in file:\n",
    "            data.append(json.loads(line))\n",
    "    return data"
   ]
  },
  {
   "cell_type": "markdown",
   "metadata": {},
   "source": [
    "### Generate small subsets of data \n",
    "**filter_user:** <br>\n",
    "generate a subset of users that has at least friend_num friends and review_count reviews"
   ]
  },
  {
   "cell_type": "code",
   "execution_count": 3,
   "metadata": {},
   "outputs": [],
   "source": [
    "def filter_user(friend_num, review_count, all_users):\n",
    "    ret_list = list()\n",
    "    for user in all_users:\n",
    "        if (str(user['friends']) == \"None\"):\n",
    "            user['friendsNum'] = 0\n",
    "        else :\n",
    "            if (type(user['friends']) != list):\n",
    "                user['friends'] = user['friends'].split(',')\n",
    "            user['friendsNum'] = len(user['friends'])\n",
    "            if (user['friendsNum'] > friend_num and user['review_count'] > review_count):\n",
    "                ret_list.append(user)\n",
    "    return ret_list"
   ]
  },
  {
   "cell_type": "code",
   "execution_count": 4,
   "metadata": {},
   "outputs": [],
   "source": [
    "def load_user_restaurants_pair(filename):\n",
    "    user_to_business = {}\n",
    "    with open(filename) as file:\n",
    "        for line in file:\n",
    "            items = line.split(\",\")\n",
    "            user_to_business[items[0]] = items[1]\n",
    "    return user_to_business"
   ]
  },
  {
   "cell_type": "code",
   "execution_count": null,
   "metadata": {},
   "outputs": [],
   "source": []
  },
  {
   "cell_type": "code",
   "execution_count": 202,
   "metadata": {},
   "outputs": [],
   "source": [
    "#HARD CODED  Neighbor_num and total_record_num\n",
    "\n",
    "def load_neighbors(filename):\n",
    "    neighbours = [[ [ 0.0 for i in xrange(10) ] for j in xrange(64575) ] for z in xrange(2)]\n",
    "    with open(filename) as file:\n",
    "        \n",
    "        for line in file:\n",
    "            items = line.split(\",\")\n",
    "            if i % 9 is 0:\n",
    "                neighbours[0][int(items[0])][0] = 0.0 # distance with itself is 0\n",
    "                neighbours[1][int(items[0])][0] = int(items[0]) # its own id\n",
    "            neighbours[0][int(items[0])][i % 9 + 1] = float(items[2])\n",
    "            neighbours[1][int(items[0])][i % 9 + 1] = int(items[1])\n",
    "\n",
    "    return neighbours\n"
   ]
  },
  {
   "cell_type": "code",
   "execution_count": 234,
   "metadata": {},
   "outputs": [],
   "source": [
    "def load_user_to_restaurants(filename):\n",
    "    user_to_restaurants = {}\n",
    "    with open(filename) as file:\n",
    "        for line in file:\n",
    "            items = line.split(\",\")\n",
    "            user_to_restaurants[items[0]]= items[1:]\n",
    "    return user_to_restaurants"
   ]
  },
  {
   "cell_type": "markdown",
   "metadata": {},
   "source": [
    "neighbours[0] -> all the distances <br>\n",
    "neighbours[1] -> coresponding nodes <br>\n",
    "neighbours[1][0] -> all the neighbors of 0 <br>"
   ]
  },
  {
   "cell_type": "code",
   "execution_count": 262,
   "metadata": {},
   "outputs": [],
   "source": [
    "def load_user_average_rating(users, userids):\n",
    "    user_to_rating = defaultdict(float)\n",
    "    for user in users:\n",
    "        if user['user_id'] in userids:\n",
    "            user_to_rating[user['user_id']] = float(user['average_stars'])\n",
    "    return user_to_rating"
   ]
  },
  {
   "cell_type": "code",
   "execution_count": 282,
   "metadata": {},
   "outputs": [],
   "source": [
    "user_to_rating = load_user_average_rating(all_users, filtered_user_ids)"
   ]
  },
  {
   "cell_type": "code",
   "execution_count": null,
   "metadata": {},
   "outputs": [],
   "source": []
  },
  {
   "cell_type": "code",
   "execution_count": 283,
   "metadata": {},
   "outputs": [
    {
     "data": {
      "text/plain": [
       "64575"
      ]
     },
     "execution_count": 283,
     "metadata": {},
     "output_type": "execute_result"
    }
   ],
   "source": [
    "len(user_to_rating)"
   ]
  },
  {
   "cell_type": "code",
   "execution_count": 285,
   "metadata": {},
   "outputs": [],
   "source": [
    "with open('yelp-dataset/yelp_user_id_avg_rating_64575.txt', 'w') as file:\n",
    "    for k,v in user_to_rating.items():\n",
    "        file.write(k + \",\" + str(v) + \"\\n\")"
   ]
  },
  {
   "cell_type": "markdown",
   "metadata": {},
   "source": [
    "### Clean Data"
   ]
  },
  {
   "cell_type": "code",
   "execution_count": 5,
   "metadata": {},
   "outputs": [],
   "source": [
    "# data is consist of json objects\n",
    "# attributes are a list of strings\n",
    "def drop_attributes(attributes, data):\n",
    "    for attribute in attributes:\n",
    "        for element in data:\n",
    "            if attribute in element:\n",
    "                del element[attribute]\n",
    "    return data"
   ]
  },
  {
   "cell_type": "code",
   "execution_count": 215,
   "metadata": {},
   "outputs": [],
   "source": [
    "# selected users: set of user ids\n",
    "# data: reviews\n",
    "def get_user_restaurants_pair(data, selected_users):\n",
    "    user_to_restaurants = defaultdict(set)\n",
    "    for review in data:\n",
    "        if review['user_id'] in selected_users:\n",
    "            user_to_restaurants[review['user_id']].append(review['business_id'])\n",
    "    return user_to_restaurants"
   ]
  },
  {
   "cell_type": "code",
   "execution_count": 217,
   "metadata": {},
   "outputs": [],
   "source": [
    "def get_user_friends_pair(users, user_ids):\n",
    "    user_to_friends = defaultdict(list)\n",
    "    for user in users:\n",
    "        friends = user['friends']\n",
    "        for friend_id in friends:\n",
    "            user_to_friends[user['user_id']].append(friend_id)\n",
    "    return user_to_friends"
   ]
  },
  {
   "cell_type": "markdown",
   "metadata": {},
   "source": [
    "### Output file"
   ]
  },
  {
   "cell_type": "code",
   "execution_count": 8,
   "metadata": {},
   "outputs": [],
   "source": [
    "def output_json_to_file(data, filename):\n",
    "    with open(filename, 'w') as outfile:\n",
    "        for item in data:\n",
    "            json.dump(item, outfile)\n",
    "            outfile.write(\"\\n\")"
   ]
  },
  {
   "cell_type": "code",
   "execution_count": 9,
   "metadata": {},
   "outputs": [],
   "source": [
    "def output_list_to_file(data, filename):\n",
    "    with open(filename, 'w') as outfile:\n",
    "        for item in data:\n",
    "            outfile.write(item)\n",
    "            outfile.write(\"\\n\")"
   ]
  },
  {
   "cell_type": "markdown",
   "metadata": {},
   "source": [
    "## Pre Processing"
   ]
  },
  {
   "cell_type": "code",
   "execution_count": 253,
   "metadata": {},
   "outputs": [],
   "source": [
    "all_users = parse_json_file('yelp-dataset/yelp_academic_dataset_user.json')"
   ]
  },
  {
   "cell_type": "code",
   "execution_count": 278,
   "metadata": {},
   "outputs": [
    {
     "data": {
      "text/plain": [
       "64575"
      ]
     },
     "execution_count": 278,
     "metadata": {},
     "output_type": "execute_result"
    }
   ],
   "source": [
    "filtered_user_ids = set()\n",
    "with open('yelp-dataset/yelp_userids_64575.txt') as file:\n",
    "    for line in file:\n",
    "        filtered_user_ids.add(line[0:len(line) - 1])\n",
    "len(filtered_user_ids)"
   ]
  },
  {
   "cell_type": "code",
   "execution_count": null,
   "metadata": {},
   "outputs": [],
   "source": [
    "filtered_user_with_10_friends_and_20_reviews = filter_user(10,20,all_users)\n",
    "len(filtered_user_with_10_friends_and_20_reviews) # 184704  about 12.166234457428653 % of total users "
   ]
  },
  {
   "cell_type": "markdown",
   "metadata": {},
   "source": [
    "### Split Data to smaller datasets to run notebook online"
   ]
  },
  {
   "cell_type": "code",
   "execution_count": 32,
   "metadata": {},
   "outputs": [],
   "source": [
    "outfiles = list()\n",
    "for i in range(1, 11):\n",
    "    outfiles.append(open('filtered_user_with_10_friends_and_20_reviews' + str(i) + '.json', 'w'))"
   ]
  },
  {
   "cell_type": "code",
   "execution_count": null,
   "metadata": {},
   "outputs": [],
   "source": [
    "i = 0\n",
    "for item in filtered_user_with_10_friends_and_20_reviews:\n",
    "    json.dump(item, outfiles[i % 10])\n",
    "    outfiles[i % 10].write(\"\\n\")\n",
    "    i += 1\n",
    "\n",
    "for outfile in outfiles:\n",
    "    outfile.close()"
   ]
  },
  {
   "cell_type": "code",
   "execution_count": null,
   "metadata": {},
   "outputs": [],
   "source": [
    "output_json_to_file(filtered_user_with_10_friends_and_20_reviews, 'yelp-dataset/filtered_user_with_10_friends_and_20_reviews.json')"
   ]
  },
  {
   "cell_type": "markdown",
   "metadata": {},
   "source": [
    "### Clean business datasets "
   ]
  },
  {
   "cell_type": "code",
   "execution_count": 7,
   "metadata": {},
   "outputs": [],
   "source": [
    "all_business = parse_json_file('yelp-dataset/yelp_academic_dataset_business.json')"
   ]
  },
  {
   "cell_type": "code",
   "execution_count": 19,
   "metadata": {},
   "outputs": [],
   "source": [
    "business_attributes_to_drop = (\"name\", \"neighborhood\",\"postal_code\",\"address\", \"postal code\", \"latitude\", \"longitude\", \"stars\", \"is_open\", \"hours\")\n",
    "all_business_cleaned = drop_attributes(business_attributes_to_drop, all_business)"
   ]
  },
  {
   "cell_type": "code",
   "execution_count": 26,
   "metadata": {},
   "outputs": [],
   "source": [
    "output_json_to_file(all_business_cleaned, 'yelp-dataset/yelp_dataset_business_cleaned.json')"
   ]
  },
  {
   "cell_type": "markdown",
   "metadata": {},
   "source": [
    "Sample Business Dictionary (id to business json object) \n",
    "```\n",
    "{u'XK06r20NglrTn7OcZ2FQzA': {u'attributes': {u'BikeParking': u'True',\n",
    "   u'BusinessAcceptsCreditCards': u'False',\n",
    "   u'BusinessParking': u\"{'garage': False, 'street': True, 'validated': False, 'lot': False, 'valet': False}\",\n",
    "   u'WheelchairAccessible': u'False'},\n",
    "  u'business_id': u'XK06r20NglrTn7OcZ2FQzA',\n",
    "  u'categories': u'Shopping, Local Services, Electronics Repair, Musical Instruments & Teachers',\n",
    "  u'city': u'Toronto',\n",
    "  u'review_count': 3,\n",
    "  u'state': u'ON'},\n",
    " ```"
   ]
  },
  {
   "cell_type": "code",
   "execution_count": 73,
   "metadata": {},
   "outputs": [],
   "source": [
    "business_dict = {}\n",
    "for item in all_business_cleaned:\n",
    "    key = item['business_id']\n",
    "    business_dict[key] = item"
   ]
  },
  {
   "cell_type": "markdown",
   "metadata": {},
   "source": [
    "### Select Subset of Reviews Selected Users Wrote"
   ]
  },
  {
   "cell_type": "code",
   "execution_count": 49,
   "metadata": {},
   "outputs": [],
   "source": [
    "all_reviews = parse_json_file('yelp-dataset/yelp_academic_dataset_review.json')"
   ]
  },
  {
   "cell_type": "code",
   "execution_count": 212,
   "metadata": {},
   "outputs": [],
   "source": [
    "filtered_users = parse_json_file('filtered_user_with_10_friends_and_20_reviews.json')"
   ]
  },
  {
   "cell_type": "code",
   "execution_count": null,
   "metadata": {},
   "outputs": [],
   "source": []
  },
  {
   "cell_type": "code",
   "execution_count": 213,
   "metadata": {},
   "outputs": [],
   "source": [
    "filtered_userids = []\n",
    "for item in filtered_users:\n",
    "    filtered_userids.append(item['user_id'])\n",
    "userid_set = set(filtered_userids)"
   ]
  },
  {
   "cell_type": "code",
   "execution_count": 43,
   "metadata": {},
   "outputs": [],
   "source": [
    "output_list_to_file(filtered_userids, 'yelp_userids.txt')"
   ]
  },
  {
   "cell_type": "code",
   "execution_count": 218,
   "metadata": {},
   "outputs": [],
   "source": [
    "filtered_user_to_friend = get_user_friends_pair(filtered_users, userid_set)"
   ]
  },
  {
   "cell_type": "code",
   "execution_count": null,
   "metadata": {},
   "outputs": [],
   "source": []
  },
  {
   "cell_type": "code",
   "execution_count": 65,
   "metadata": {},
   "outputs": [],
   "source": [
    "with open('yelp-dataset/yelp_selected_user_to_businesses.txt', 'w') as outfile:\n",
    "    for key, val in user_restaurants.items():\n",
    "        for busi in val:\n",
    "            outfile.write(key + \",\" + busi + \"\\n\")"
   ]
  },
  {
   "cell_type": "markdown",
   "metadata": {},
   "source": [
    "### Get User to Friends Dict"
   ]
  },
  {
   "cell_type": "code",
   "execution_count": 45,
   "metadata": {},
   "outputs": [],
   "source": [
    "user_friends = get_user_friends_pair(filtered_users, filtered_userids)"
   ]
  },
  {
   "cell_type": "code",
   "execution_count": 46,
   "metadata": {},
   "outputs": [],
   "source": [
    "with open('yelp-dataset/yelp_user_to_friend.txt', 'w') as outfile:\n",
    "    for key, val in user_friends.items():\n",
    "        for friend in val:\n",
    "            outfile.write(key + \",\" + friend + \"\\n\")"
   ]
  },
  {
   "cell_type": "markdown",
   "metadata": {},
   "source": [
    "#### Get users and their friends id set\n",
    "This will be used to generate user restaurant pair "
   ]
  },
  {
   "cell_type": "code",
   "execution_count": 47,
   "metadata": {},
   "outputs": [],
   "source": [
    "selected_users_n_friends = set() # 7907480\n",
    "for key, val in user_friends.items():\n",
    "    selected_users_n_friends.add(key)\n",
    "    for friend in val:\n",
    "        selected_users_n_friends.add(friend)"
   ]
  },
  {
   "cell_type": "code",
   "execution_count": 51,
   "metadata": {},
   "outputs": [],
   "source": [
    "user_n_friends_restaurants = get_user_restaurants_pair(all_reviews, selected_users_n_friends)\n",
    "\n",
    "user_n_friends_restaurants_items = user_n_friends_restaurants.items()"
   ]
  },
  {
   "cell_type": "markdown",
   "metadata": {},
   "source": [
    "#### user_id, restaurant_id1, restaurant_id2, restaurant_id3, ....."
   ]
  },
  {
   "cell_type": "code",
   "execution_count": 56,
   "metadata": {},
   "outputs": [],
   "source": [
    "with open('yelp-dataset/yelp_selected_user_n_friend_to_businesses.txt', 'w') as outfile:\n",
    "    for key, val in user_n_friends_restaurants_items:\n",
    "        line = key + \",\"\n",
    "        for i in range(1, len(val)):\n",
    "            line += val[i] + \",\"\n",
    "        outfile.write(line + val[len(val) - 1] + \"\\n\")"
   ]
  },
  {
   "cell_type": "markdown",
   "metadata": {},
   "source": [
    "## Generate User Vector Based on Restaurant They rated"
   ]
  },
  {
   "cell_type": "code",
   "execution_count": 181,
   "metadata": {},
   "outputs": [],
   "source": [
    "user_restaurants = user_restaurants.items()"
   ]
  },
  {
   "cell_type": "code",
   "execution_count": 66,
   "metadata": {},
   "outputs": [],
   "source": [
    "user_restaurants_small = user_restaurants.items()[1:100]"
   ]
  },
  {
   "cell_type": "code",
   "execution_count": 102,
   "metadata": {},
   "outputs": [],
   "source": [
    "def set_attribute_if_not_exist(user, attribute):\n",
    "    if attribute not in user:\n",
    "        user[attribute] = 1\n",
    "    else:\n",
    "        user[attribute] += 1\n",
    "    return user"
   ]
  },
  {
   "cell_type": "code",
   "execution_count": 139,
   "metadata": {},
   "outputs": [],
   "source": [
    "def has_sub_attribute(sub_attribute, attribute):\n",
    "    if sub_attribute in attribute:\n",
    "        return attribute[sub_attribute] == 'True'\n",
    "    return False"
   ]
  },
  {
   "cell_type": "code",
   "execution_count": 140,
   "metadata": {},
   "outputs": [],
   "source": [
    "def get_type(categories):\n",
    "    print(type(categories))"
   ]
  },
  {
   "cell_type": "markdown",
   "metadata": {},
   "source": [
    " ### Create the user vector \n",
    "Return: List of User Json objects that contains user's attributes <br>\n",
    "Example : user1 { 'Mexican': 10, 'Chinese': 2}"
   ]
  },
  {
   "cell_type": "code",
   "execution_count": 185,
   "metadata": {},
   "outputs": [],
   "source": [
    "users_attributes = []\n",
    "\n",
    "for key, val in user_restaurants:\n",
    "    curr_user = {}\n",
    "    curr_user['user_id'] = key\n",
    "    curr_user['restaurant_count'] = len(val)\n",
    "    for busi_id in val:\n",
    "        curr_business = business_dict[busi_id]\n",
    "        set_attribute_if_not_exist(curr_user, curr_business['state'])\n",
    "        curr_busi_attrs = curr_business['attributes']\n",
    "        if type(curr_busi_attrs) is dict:\n",
    "            if 'Alcohol' in curr_busi_attrs and curr_busi_attrs['Alcohol']!= 'None':\n",
    "                set_attribute_if_not_exist(curr_user, 'Alcohol')\n",
    "            \n",
    "            attributes_selected = ('RestaurantsGoodForGroups',\n",
    "                                  'GoodForKids', \n",
    "                                  'HasTV',\n",
    "                                  'OutdoorSeating', \n",
    "                                  'BusinessAcceptsCreditCards',\n",
    "                                  'RestaurantsDelivery')\n",
    "            for attri_selected in attributes_selected:\n",
    "                if has_sub_attribute(attri_selected, curr_busi_attrs):\n",
    "                    set_attribute_if_not_exist(curr_user, attri_selected)\n",
    "            \n",
    "            if 'RestaurantsPriceRange2' in curr_busi_attrs:\n",
    "                    price_range = curr_busi_attrs['RestaurantsPriceRange2']\n",
    "                    set_attribute_if_not_exist(curr_user, 'PriceRange_'+ price_range)\n",
    "        \n",
    "            if 'BusinessParking' in curr_busi_attrs:\n",
    "                parking = curr_busi_attrs['BusinessParking']\n",
    "                if 'True' in parking:\n",
    "                    set_attribute_if_not_exist(curr_user, 'HasParking')\n",
    "                    \n",
    "        if type(curr_business['categories']) is unicode:         \n",
    "            curr_categories = curr_business['categories'].split(\",\")\n",
    "        for cate in curr_categories:\n",
    "            set_attribute_if_not_exist(curr_user, cate)\n",
    "    users_attributes.append(curr_user)\n",
    "        "
   ]
  },
  {
   "cell_type": "code",
   "execution_count": 190,
   "metadata": {},
   "outputs": [],
   "source": [
    "output_json_to_file(users_attributes, 'yelp-dataset/yelp_dataset_user_attributes.json')"
   ]
  },
  {
   "cell_type": "markdown",
   "metadata": {},
   "source": [
    "### Normalize the attributes \n",
    "\n",
    "We counted the restaurant attributes each user visited. <br> In order to calculate the distance between them, I would like to normalize the count by dividing each count with the number restaurant user reviewed. The result would display a percentage of time user reviewed in certain type of restaurants. "
   ]
  },
  {
   "cell_type": "code",
   "execution_count": 193,
   "metadata": {},
   "outputs": [],
   "source": [
    "users_normalized_attributes =  users_attributes # keep it unnormalized"
   ]
  },
  {
   "cell_type": "code",
   "execution_count": 286,
   "metadata": {},
   "outputs": [
    {
     "ename": "NameError",
     "evalue": "name 'users_normalized_attributes' is not defined",
     "output_type": "error",
     "traceback": [
      "\u001b[0;31m---------------------------------------------------------------------------\u001b[0m",
      "\u001b[0;31mNameError\u001b[0m                                 Traceback (most recent call last)",
      "\u001b[0;32m<ipython-input-286-32cebc3e0a58>\u001b[0m in \u001b[0;36m<module>\u001b[0;34m()\u001b[0m\n\u001b[0;32m----> 1\u001b[0;31m \u001b[0;32mfor\u001b[0m \u001b[0muser\u001b[0m \u001b[0;32min\u001b[0m \u001b[0musers_normalized_attributes\u001b[0m\u001b[0;34m:\u001b[0m\u001b[0;34m\u001b[0m\u001b[0m\n\u001b[0m\u001b[1;32m      2\u001b[0m     \u001b[0mlength\u001b[0m \u001b[0;34m=\u001b[0m \u001b[0mint\u001b[0m\u001b[0;34m(\u001b[0m\u001b[0muser\u001b[0m\u001b[0;34m[\u001b[0m\u001b[0;34m'restaurant_count'\u001b[0m\u001b[0;34m]\u001b[0m\u001b[0;34m)\u001b[0m\u001b[0;34m\u001b[0m\u001b[0m\n\u001b[1;32m      3\u001b[0m     \u001b[0;32mfor\u001b[0m \u001b[0mk\u001b[0m\u001b[0;34m,\u001b[0m \u001b[0mv\u001b[0m \u001b[0;32min\u001b[0m \u001b[0muser\u001b[0m\u001b[0;34m.\u001b[0m\u001b[0mitems\u001b[0m\u001b[0;34m(\u001b[0m\u001b[0;34m)\u001b[0m\u001b[0;34m:\u001b[0m\u001b[0;34m\u001b[0m\u001b[0m\n\u001b[1;32m      4\u001b[0m         \u001b[0;32mif\u001b[0m \u001b[0mk\u001b[0m \u001b[0;32mis\u001b[0m \u001b[0;32mnot\u001b[0m \u001b[0;34m'restaurant_count'\u001b[0m \u001b[0;32mand\u001b[0m \u001b[0mk\u001b[0m \u001b[0;32mis\u001b[0m \u001b[0;32mnot\u001b[0m \u001b[0;34m'user_id'\u001b[0m\u001b[0;34m:\u001b[0m\u001b[0;34m\u001b[0m\u001b[0m\n\u001b[1;32m      5\u001b[0m             \u001b[0muser\u001b[0m\u001b[0;34m[\u001b[0m\u001b[0mk\u001b[0m\u001b[0;34m]\u001b[0m \u001b[0;34m=\u001b[0m \u001b[0mfloat\u001b[0m\u001b[0;34m(\u001b[0m\u001b[0mv\u001b[0m \u001b[0;34m*\u001b[0m \u001b[0;36m100\u001b[0m\u001b[0;34m)\u001b[0m \u001b[0;34m/\u001b[0m \u001b[0mlength\u001b[0m\u001b[0;34m\u001b[0m\u001b[0m\n",
      "\u001b[0;31mNameError\u001b[0m: name 'users_normalized_attributes' is not defined"
     ]
    }
   ],
   "source": [
    "for user in users_normalized_attributes:\n",
    "    length = int(user['restaurant_count'])\n",
    "    for k, v in user.items():\n",
    "        if k is not 'restaurant_count' and k is not 'user_id':\n",
    "            user[k] = float(v * 100) / length"
   ]
  },
  {
   "cell_type": "code",
   "execution_count": 200,
   "metadata": {},
   "outputs": [],
   "source": [
    "user_normalized = users_attributes"
   ]
  },
  {
   "cell_type": "code",
   "execution_count": 201,
   "metadata": {},
   "outputs": [],
   "source": [
    "output_json_to_file(user_normalized, 'yelp-dataset/yelp_dataset_user_normalized_attributes.json')"
   ]
  },
  {
   "cell_type": "code",
   "execution_count": 202,
   "metadata": {},
   "outputs": [],
   "source": [
    "df = pd.DataFrame(user_normalized)\n",
    "df.replace(np.nan, 0, inplace = True)"
   ]
  },
  {
   "cell_type": "code",
   "execution_count": 203,
   "metadata": {},
   "outputs": [
    {
     "data": {
      "text/html": [
       "<div>\n",
       "<style scoped>\n",
       "    .dataframe tbody tr th:only-of-type {\n",
       "        vertical-align: middle;\n",
       "    }\n",
       "\n",
       "    .dataframe tbody tr th {\n",
       "        vertical-align: top;\n",
       "    }\n",
       "\n",
       "    .dataframe thead th {\n",
       "        text-align: right;\n",
       "    }\n",
       "</style>\n",
       "<table border=\"1\" class=\"dataframe\">\n",
       "  <thead>\n",
       "    <tr style=\"text-align: right;\">\n",
       "      <th></th>\n",
       "      <th>&amp; Probates</th>\n",
       "      <th>3D Printing</th>\n",
       "      <th>ATV Rentals/Tours</th>\n",
       "      <th>Acai Bowls</th>\n",
       "      <th>Accessories</th>\n",
       "      <th>Accountants</th>\n",
       "      <th>Acne Treatment</th>\n",
       "      <th>Active Life</th>\n",
       "      <th>Acupuncture</th>\n",
       "      <th>Addiction Medicine</th>\n",
       "      <th>...</th>\n",
       "      <th>Workers Compensation Law</th>\n",
       "      <th>Wraps</th>\n",
       "      <th>XGM</th>\n",
       "      <th>XMS</th>\n",
       "      <th>Yelp Events</th>\n",
       "      <th>Yoga</th>\n",
       "      <th>Ziplining</th>\n",
       "      <th>Zoos</th>\n",
       "      <th>restaurant_count</th>\n",
       "      <th>user_id</th>\n",
       "    </tr>\n",
       "  </thead>\n",
       "  <tbody>\n",
       "    <tr>\n",
       "      <th>0</th>\n",
       "      <td>0.0</td>\n",
       "      <td>0.0</td>\n",
       "      <td>0.0</td>\n",
       "      <td>0.0</td>\n",
       "      <td>0.0</td>\n",
       "      <td>0.0</td>\n",
       "      <td>0.0</td>\n",
       "      <td>0.000000</td>\n",
       "      <td>0.0</td>\n",
       "      <td>0.0</td>\n",
       "      <td>...</td>\n",
       "      <td>0.0</td>\n",
       "      <td>0.0</td>\n",
       "      <td>0.0</td>\n",
       "      <td>0.0</td>\n",
       "      <td>0.0</td>\n",
       "      <td>0.0</td>\n",
       "      <td>0.0</td>\n",
       "      <td>0.0</td>\n",
       "      <td>1</td>\n",
       "      <td>C3tqbv3fH5fCLbujgVAqLQ</td>\n",
       "    </tr>\n",
       "    <tr>\n",
       "      <th>1</th>\n",
       "      <td>0.0</td>\n",
       "      <td>0.0</td>\n",
       "      <td>0.0</td>\n",
       "      <td>0.0</td>\n",
       "      <td>0.0</td>\n",
       "      <td>0.0</td>\n",
       "      <td>0.0</td>\n",
       "      <td>4.545455</td>\n",
       "      <td>0.0</td>\n",
       "      <td>0.0</td>\n",
       "      <td>...</td>\n",
       "      <td>0.0</td>\n",
       "      <td>0.0</td>\n",
       "      <td>0.0</td>\n",
       "      <td>0.0</td>\n",
       "      <td>0.0</td>\n",
       "      <td>0.0</td>\n",
       "      <td>0.0</td>\n",
       "      <td>0.0</td>\n",
       "      <td>22</td>\n",
       "      <td>gLV4VXc4k_WF9ElByOdE5Q</td>\n",
       "    </tr>\n",
       "    <tr>\n",
       "      <th>2</th>\n",
       "      <td>0.0</td>\n",
       "      <td>0.0</td>\n",
       "      <td>0.0</td>\n",
       "      <td>0.0</td>\n",
       "      <td>0.0</td>\n",
       "      <td>0.0</td>\n",
       "      <td>0.0</td>\n",
       "      <td>0.000000</td>\n",
       "      <td>0.0</td>\n",
       "      <td>0.0</td>\n",
       "      <td>...</td>\n",
       "      <td>0.0</td>\n",
       "      <td>0.0</td>\n",
       "      <td>0.0</td>\n",
       "      <td>0.0</td>\n",
       "      <td>0.0</td>\n",
       "      <td>0.0</td>\n",
       "      <td>0.0</td>\n",
       "      <td>0.0</td>\n",
       "      <td>2</td>\n",
       "      <td>tFpLr6dnSoh3KgyjVnlBhw</td>\n",
       "    </tr>\n",
       "    <tr>\n",
       "      <th>3</th>\n",
       "      <td>0.0</td>\n",
       "      <td>0.0</td>\n",
       "      <td>0.0</td>\n",
       "      <td>0.0</td>\n",
       "      <td>0.0</td>\n",
       "      <td>0.0</td>\n",
       "      <td>0.0</td>\n",
       "      <td>0.000000</td>\n",
       "      <td>0.0</td>\n",
       "      <td>0.0</td>\n",
       "      <td>...</td>\n",
       "      <td>0.0</td>\n",
       "      <td>0.0</td>\n",
       "      <td>0.0</td>\n",
       "      <td>0.0</td>\n",
       "      <td>0.0</td>\n",
       "      <td>0.0</td>\n",
       "      <td>0.0</td>\n",
       "      <td>0.0</td>\n",
       "      <td>5</td>\n",
       "      <td>MPaWnzh94qmtdjMMrGpSCw</td>\n",
       "    </tr>\n",
       "    <tr>\n",
       "      <th>4</th>\n",
       "      <td>0.0</td>\n",
       "      <td>0.0</td>\n",
       "      <td>0.0</td>\n",
       "      <td>0.0</td>\n",
       "      <td>0.0</td>\n",
       "      <td>0.0</td>\n",
       "      <td>0.0</td>\n",
       "      <td>0.000000</td>\n",
       "      <td>0.0</td>\n",
       "      <td>0.0</td>\n",
       "      <td>...</td>\n",
       "      <td>0.0</td>\n",
       "      <td>0.0</td>\n",
       "      <td>0.0</td>\n",
       "      <td>0.0</td>\n",
       "      <td>0.0</td>\n",
       "      <td>0.0</td>\n",
       "      <td>0.0</td>\n",
       "      <td>0.0</td>\n",
       "      <td>2</td>\n",
       "      <td>TSFDRxY6Fvb8o9ylq-9Jzg</td>\n",
       "    </tr>\n",
       "  </tbody>\n",
       "</table>\n",
       "<p>5 rows × 2493 columns</p>\n",
       "</div>"
      ],
      "text/plain": [
       "    & Probates   3D Printing   ATV Rentals/Tours   Acai Bowls   Accessories  \\\n",
       "0          0.0           0.0                 0.0          0.0           0.0   \n",
       "1          0.0           0.0                 0.0          0.0           0.0   \n",
       "2          0.0           0.0                 0.0          0.0           0.0   \n",
       "3          0.0           0.0                 0.0          0.0           0.0   \n",
       "4          0.0           0.0                 0.0          0.0           0.0   \n",
       "\n",
       "    Accountants   Acne Treatment   Active Life   Acupuncture  \\\n",
       "0           0.0              0.0      0.000000           0.0   \n",
       "1           0.0              0.0      4.545455           0.0   \n",
       "2           0.0              0.0      0.000000           0.0   \n",
       "3           0.0              0.0      0.000000           0.0   \n",
       "4           0.0              0.0      0.000000           0.0   \n",
       "\n",
       "    Addiction Medicine           ...            Workers Compensation Law  \\\n",
       "0                  0.0           ...                                 0.0   \n",
       "1                  0.0           ...                                 0.0   \n",
       "2                  0.0           ...                                 0.0   \n",
       "3                  0.0           ...                                 0.0   \n",
       "4                  0.0           ...                                 0.0   \n",
       "\n",
       "   Wraps  XGM  XMS  Yelp Events  Yoga  Ziplining  Zoos  restaurant_count  \\\n",
       "0    0.0  0.0  0.0          0.0   0.0        0.0   0.0                 1   \n",
       "1    0.0  0.0  0.0          0.0   0.0        0.0   0.0                22   \n",
       "2    0.0  0.0  0.0          0.0   0.0        0.0   0.0                 2   \n",
       "3    0.0  0.0  0.0          0.0   0.0        0.0   0.0                 5   \n",
       "4    0.0  0.0  0.0          0.0   0.0        0.0   0.0                 2   \n",
       "\n",
       "                  user_id  \n",
       "0  C3tqbv3fH5fCLbujgVAqLQ  \n",
       "1  gLV4VXc4k_WF9ElByOdE5Q  \n",
       "2  tFpLr6dnSoh3KgyjVnlBhw  \n",
       "3  MPaWnzh94qmtdjMMrGpSCw  \n",
       "4  TSFDRxY6Fvb8o9ylq-9Jzg  \n",
       "\n",
       "[5 rows x 2493 columns]"
      ]
     },
     "execution_count": 203,
     "metadata": {},
     "output_type": "execute_result"
    }
   ],
   "source": [
    "df.head()"
   ]
  },
  {
   "cell_type": "code",
   "execution_count": 208,
   "metadata": {},
   "outputs": [],
   "source": [
    "df_userid = df['user_id']\n",
    "# df_userid.iloc[1]\n",
    "df.drop(columns = 'user_id') # need to drop user_id to calcuate t"
   ]
  },
  {
   "cell_type": "markdown",
   "metadata": {},
   "source": [
    "### Kth Nearest Neighbors \n",
    "Based on the vector we previously used to represent each user, we now use the knn model to find the closest 10 users of the current user. The distance between two users are defined with euclidean distance"
   ]
  },
  {
   "cell_type": "code",
   "execution_count": 7,
   "metadata": {},
   "outputs": [],
   "source": [
    "from sklearn.neighbors import NearestNeighbors\n",
    "import time"
   ]
  },
  {
   "cell_type": "code",
   "execution_count": 287,
   "metadata": {
    "scrolled": true
   },
   "outputs": [],
   "source": [
    "# shortcut after storing normalized user attributes locally \n",
    "curr_time = time.time()\n",
    "user_normalized = parse_json_file('yelp-dataset/yelp_dataset_user_normalized_attributes.json')\n",
    "user_5 = []\n",
    "for user in user_normalized:\n",
    "    if user['restaurant_count'] > 5:\n",
    "        user_5.append(user)"
   ]
  },
  {
   "cell_type": "code",
   "execution_count": 9,
   "metadata": {},
   "outputs": [
    {
     "name": "stdout",
     "output_type": "stream",
     "text": [
      "time taken: 52.2914040089\n"
     ]
    }
   ],
   "source": [
    "df = pd.DataFrame(user_5)\n",
    "df.replace(np.nan, 0, inplace = True)\n",
    "df_userid = pd.DataFrame(df['user_id'])\n",
    "df.drop(columns = 'user_id', inplace = True) \n",
    "print(\"time taken: \" + str(time.time() - curr_time))"
   ]
  },
  {
   "cell_type": "code",
   "execution_count": 19,
   "metadata": {},
   "outputs": [],
   "source": [
    "df_normalized = pd.DataFrame(user_normalized)"
   ]
  },
  {
   "cell_type": "code",
   "execution_count": 10,
   "metadata": {},
   "outputs": [],
   "source": [
    "selected_users = set(df_userid['user_id'].tolist())"
   ]
  },
  {
   "cell_type": "code",
   "execution_count": 82,
   "metadata": {},
   "outputs": [],
   "source": [
    "# check number of cells for curr column that is not 0\n",
    "# df.astype(bool).sum(axis=0)"
   ]
  },
  {
   "cell_type": "code",
   "execution_count": 34,
   "metadata": {},
   "outputs": [
    {
     "name": "stdout",
     "output_type": "stream",
     "text": [
      "time taken: 0.561400536696 min\n"
     ]
    }
   ],
   "source": [
    "curr_time = time.time()\n",
    "model = NearestNeighbors(n_neighbors=10, p=2) # p = 2 -> euclidean distance\n",
    "model.fit(df) \n",
    "time_taken = float(time.time() - curr_time)/60\n",
    "print(\"time taken: \" + str(time_taken) + \" min\")"
   ]
  },
  {
   "cell_type": "code",
   "execution_count": null,
   "metadata": {},
   "outputs": [],
   "source": [
    "curr_time = time.time()\n",
    "neighbors = model.kneighbors(df, return_distance=True)"
   ]
  },
  {
   "cell_type": "code",
   "execution_count": 36,
   "metadata": {},
   "outputs": [
    {
     "name": "stdout",
     "output_type": "stream",
     "text": [
      "time taken: 194.273444851 min\n"
     ]
    }
   ],
   "source": [
    "time_taken = float(time.time() - curr_time)/60\n",
    "print(\"time taken: \" + str(time_taken) + \" min\")"
   ]
  },
  {
   "cell_type": "code",
   "execution_count": 201,
   "metadata": {
    "scrolled": true
   },
   "outputs": [],
   "source": [
    "# shortcut after generated the user knn file\n",
    "load_neighbors('yelp-dataset/yelp_user_knn.txt')"
   ]
  },
  {
   "cell_type": "markdown",
   "metadata": {},
   "source": [
    "### Save the KNN (9 neighbors) to file"
   ]
  },
  {
   "cell_type": "code",
   "execution_count": 80,
   "metadata": {},
   "outputs": [],
   "source": [
    "total_selected_user = len(neighbours[0])\n",
    "with open('yelp-dataset/yelp_userid_knn_corrected.txt', 'w') as outfile:\n",
    "    for i in range(0, total_selected_user):\n",
    "        for j in range(1, 10):\n",
    "            outfile.write(str(df_userid.iloc[neighbours[1][i][0]]) + ',' + str(df_userid.iloc[neighbours[1][i][j]]) + ',' + str(neighbours[0][i][j]) + '\\n')"
   ]
  },
  {
   "cell_type": "markdown",
   "metadata": {},
   "source": [
    "### Concat the restaurants visited by user, user's neighbors and user's friends"
   ]
  },
  {
   "cell_type": "code",
   "execution_count": 210,
   "metadata": {},
   "outputs": [],
   "source": [
    "# outdated version: user_to_restaurants = load_user_restaurants_pair('yelp-dataset/yelp_selected_user_to_businesses.txt')"
   ]
  },
  {
   "cell_type": "code",
   "execution_count": 235,
   "metadata": {},
   "outputs": [],
   "source": [
    "user_to_rests = load_user_to_restaurants('yelp-dataset/yelp_selected_user_n_friend_to_businesses.txt')"
   ]
  },
  {
   "cell_type": "code",
   "execution_count": null,
   "metadata": {},
   "outputs": [],
   "source": []
  },
  {
   "cell_type": "markdown",
   "metadata": {},
   "source": [
    "### output format\n",
    "*user_id, potential_restaurant_id1, potential_restaurant_id2, potential_restaurant_id3, potential_restaurant_id4.....*\n",
    "\n",
    "### Extract Potential Restaurant User Might Be Interested"
   ]
  },
  {
   "cell_type": "code",
   "execution_count": 249,
   "metadata": {},
   "outputs": [
    {
     "data": {
      "text/plain": [
       "64575"
      ]
     },
     "execution_count": 249,
     "metadata": {},
     "output_type": "execute_result"
    }
   ],
   "source": [
    "# total_selected_user = len(df_userid)\n",
    "# filtered_user_to_friend"
   ]
  },
  {
   "cell_type": "code",
   "execution_count": 250,
   "metadata": {},
   "outputs": [],
   "source": [
    "with open('yelp-dataset/yelp_user_potential_restaurants_sample_all.txt', 'w') as outfile:\n",
    "    for i in range(0, total_selected_user):\n",
    "        curr = df_userid.loc[neighbours[1][i][0],'user_id']\n",
    "        outfile.write(curr + ',')\n",
    "        for j in range(1, 10):\n",
    "            curr_neighbor_id = df_userid.loc[neighbours[1][i][j], 'user_id']\n",
    "            curr_rests = user_to_rests[curr_neighbor_id]\n",
    "            for k in range(1,len(curr_rests)):\n",
    "                outfile.write(curr_rests[k] + ',')\n",
    "            outfile.write(curr_rests[len(curr_rests) - 1])\n",
    "            \n",
    "        friends = filtered_user_to_friend[curr]\n",
    "        for j in range(1, len(friends)):\n",
    "            if friends[j] in user_to_rests:\n",
    "                curr_rests = user_to_rests[friends[j]]\n",
    "                print(curr_rests)\n",
    "                for k in range(1,len(curr_rests)):\n",
    "                    outfile.write(curr_rests[k] + ',')\n",
    "                outfile.write(curr_rests[len(curr_rests) - 1])\n",
    "        outfile.write('\\n')"
   ]
  },
  {
   "cell_type": "markdown",
   "metadata": {},
   "source": [
    "### Get prediction top 20 attributes"
   ]
  },
  {
   "cell_type": "code",
   "execution_count": 193,
   "metadata": {},
   "outputs": [],
   "source": [
    "def get_predict_top_20_attributes(neighbors, total_selected_user):\n",
    "### Get the top 20 Attributes user might be interested based on the interest of its similar user\n",
    "    users_predict_result = []\n",
    "    for i in range(0, total_selected_user):\n",
    "        # user's neighbors(excluding user itself) attributes that are not 0\n",
    "        df_sub = df.iloc[neighbors[1][i][1:]]\n",
    "        df_attri = df_sub.loc[:, (df_sub > 0).any()]\n",
    "        df_predictions = pd.DataFrame(df_attri.sum(axis=0))\n",
    "        df_predictions.columns = ['Score']\n",
    "        \n",
    "        # sort by score value (score is the sum of normalized score of all 9 users)\n",
    "        prediction_res = df_predictions.sort_values(['Score'], ascending=[0]).iloc[0:20]\n",
    "        top_20_types = prediction_res.index.values\n",
    "        \n",
    "        curr_user = {}\n",
    "        curr_id = df_userid.loc[i,'user_id']\n",
    "        \n",
    "        for j in range(0, 20):\n",
    "            if top_20_types[j] != 'restaurant_count':\n",
    "                curr_user[top_20_types[j]] = prediction_res.loc[top_20_types[j],'Score']\n",
    "        curr_user[unicode('user_id')] = curr_id      \n",
    "        users_predict_result.append(curr_user)\n",
    "        \n",
    "    return users_predict_result"
   ]
  },
  {
   "cell_type": "code",
   "execution_count": 194,
   "metadata": {},
   "outputs": [],
   "source": [
    "users_predict_result = get_predict_top_20_attributes(neighbours, 100)"
   ]
  },
  {
   "cell_type": "code",
   "execution_count": null,
   "metadata": {},
   "outputs": [],
   "source": []
  },
  {
   "cell_type": "code",
   "execution_count": 195,
   "metadata": {},
   "outputs": [],
   "source": [
    "from wordcloud import WordCloud\n",
    "import matplotlib.pyplot as plt"
   ]
  },
  {
   "cell_type": "code",
   "execution_count": 196,
   "metadata": {},
   "outputs": [],
   "source": [
    "def create_word_cloud(user):\n",
    "    user_no_id = user\n",
    "    curr_id = user['user_id']\n",
    "    user_no_id.pop('user_id', None)\n",
    "    \n",
    "    wordcloud = WordCloud(background_color='white').generate_from_frequencies(user_no_id)\n",
    "    \n",
    "    user_no_id['user_id'] = curr_id\n",
    "    return wordcloud"
   ]
  },
  {
   "cell_type": "code",
   "execution_count": 197,
   "metadata": {},
   "outputs": [],
   "source": [
    "def plot_word_cloud(wordcloud, curr_id):\n",
    "    plt.imshow(wordcloud)\n",
    "    plt.axis('off')\n",
    "    \n",
    "    loc = 'yelp-dataset/wordcloud/' + curr_id +'.png'\n",
    "    plt.savefig(loc, facecolor='white', transparent=True)"
   ]
  },
  {
   "cell_type": "code",
   "execution_count": 199,
   "metadata": {},
   "outputs": [
    {
     "data": {
      "image/png": "[encoded data removed]",
      "text/plain": [
       "<Figure size 432x288 with 1 Axes>"
      ]
     },
     "metadata": {
      "needs_background": "light"
     },
     "output_type": "display_data"
    }
   ],
   "source": [
    "for user in users_predict_result:\n",
    "    wordcloud = create_word_cloud(user)\n",
    "    plot_word_cloud(wordcloud, user['user_id'])"
   ]
  },
  {
   "cell_type": "code",
   "execution_count": 105,
   "metadata": {},
   "outputs": [],
   "source": [
    "# top_20_result = type_result.iloc[1:21]\n",
    "# all_types = top_20_result.index.values\n",
    "# curr_user = {}\n",
    "# curr_user['user_id'] = df_userid.iloc[10]\n",
    "# for i in range(0, 20):\n",
    "#     if all_types[i] != 'restaurant_count':\n",
    "#         curr_user[all_types[i]] = top_20_result.loc[all_types[i],'Score']"
   ]
  }
 ],
 "metadata": {
  "kernelspec": {
   "display_name": "Python 2",
   "language": "python",
   "name": "python2"
  },
  "language_info": {
   "codemirror_mode": {
    "name": "ipython",
    "version": 2
   },
   "file_extension": ".py",
   "mimetype": "text/x-python",
   "name": "python",
   "nbconvert_exporter": "python",
   "pygments_lexer": "ipython2",
   "version": "2.7.14"
  }
 },
 "nbformat": 4,
 "nbformat_minor": 2
}
